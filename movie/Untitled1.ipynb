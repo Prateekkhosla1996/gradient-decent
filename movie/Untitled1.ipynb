{
 "cells": [
  {
   "cell_type": "code",
   "execution_count": 3,
   "metadata": {},
   "outputs": [
    {
     "name": "stdout",
     "output_type": "stream",
     "text": [
      "(40000, 1)\n",
      "(40000,)\n"
     ]
    }
   ],
   "source": [
    "import pandas as pd\n",
    "import numpy as np\n",
    "train=pd.read_csv('Train.csv')\n",
    "test=pd.read_csv('Test.csv')\n",
    "from sklearn.preprocessing import LabelEncoder\n",
    "le = LabelEncoder()\n",
    "train[\"label\"] = le.fit_transform(train[\"label\"])\n",
    "train[\"review\"] = le.fit_transform(train[\"review\"])\n",
    "\n",
    "test[\"review\"] = le.fit_transform(test[\"review\"])\n",
    "z=np.array(train)\n",
    "x_train=z[:,:-1]\n",
    "y_train=z[:,-1]\n",
    "print(x_train.shape)\n",
    "print(y_train.shape)\n",
    "from sklearn.naive_bayes import GaussianNB\n",
    "clf=GaussianNB()\n",
    "clf.fit(x_train,y_train)\n",
    "ypred=clf.predict(test)\n",
    "y=np.array(ypred)\n",
    "\n",
    "df = pd.DataFrame(ypred, columns=[\"label\"])\n",
    "df.to_csv(\"movie.csv\")"
   ]
  },
  {
   "cell_type": "code",
   "execution_count": 5,
   "metadata": {},
   "outputs": [
    {
     "data": {
      "text/plain": [
       "1.0"
      ]
     },
     "execution_count": 5,
     "metadata": {},
     "output_type": "execute_result"
    }
   ],
   "source": [
    "clf.score(test,ypred)"
   ]
  },
  {
   "cell_type": "code",
   "execution_count": 6,
   "metadata": {},
   "outputs": [
    {
     "data": {
      "text/plain": [
       "1.0"
      ]
     },
     "execution_count": 6,
     "metadata": {},
     "output_type": "execute_result"
    }
   ],
   "source": [
    "from sklearn.naive_bayes import MultinomialNB\n",
    "clf=MultinomialNB()\n",
    "clf.fit(x_train,y_train)\n",
    "ypred=clf.predict(test)\n",
    "y=np.array(ypred)\n",
    "\n",
    "df = pd.DataFrame(ypred, columns=[\"label\"])\n",
    "df.to_csv(\"movie1.csv\")\n",
    "clf.score(test,ypred)"
   ]
  }
 ],
 "metadata": {
  "kernelspec": {
   "display_name": "Python 3",
   "language": "python",
   "name": "python3"
  },
  "language_info": {
   "codemirror_mode": {
    "name": "ipython",
    "version": 3
   },
   "file_extension": ".py",
   "mimetype": "text/x-python",
   "name": "python",
   "nbconvert_exporter": "python",
   "pygments_lexer": "ipython3",
   "version": "3.7.1"
  }
 },
 "nbformat": 4,
 "nbformat_minor": 2
}
