{
 "cells": [
  {
   "cell_type": "code",
   "execution_count": 1,
   "metadata": {},
   "outputs": [],
   "source": [
    "import numpy as np\n",
    "\n",
    "data=np.genfromtxt('trainp2.csv',delimiter=',')\n",
    "x_train=data[:,0:4]\n",
    "y_train=data[:,4]\n",
    "\n",
    "data1=np.genfromtxt('testp2.csv',delimiter=',')\n",
    "x_test=data1[:,0:4]\n",
    "\n",
    "from sklearn import ensemble\n",
    "algo=ensemble.GradientBoostingRegressor(learning_rate=0.25,n_estimators=1000)\n",
    "algo.fit(x_train,y_train)\n",
    "\n",
    "y_pred=algo.predict(x_test) \n",
    "y_test_pred=pred=np.around(y_pred,decimals=5)\n",
    "np.savetxt(\"testpred.csv\",y_pred)\n"
   ]
  }
 ],
 "metadata": {
  "kernelspec": {
   "display_name": "Python 3",
   "language": "python",
   "name": "python3"
  },
  "language_info": {
   "codemirror_mode": {
    "name": "ipython",
    "version": 3
   },
   "file_extension": ".py",
   "mimetype": "text/x-python",
   "name": "python",
   "nbconvert_exporter": "python",
   "pygments_lexer": "ipython3",
   "version": "3.7.3"
  }
 },
 "nbformat": 4,
 "nbformat_minor": 2
}
